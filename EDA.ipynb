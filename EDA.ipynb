{
 "cells": [
  {
   "cell_type": "code",
   "execution_count": 131,
   "metadata": {},
   "outputs": [],
   "source": [
    "import pandas as pd\n",
    "from sklearn.preprocessing import OneHotEncoder\n",
    "import numpy as np\n",
    "from tqdm.autonotebook import tqdm\n",
    "\n",
    "from tslearn.clustering import TimeSeriesKMeans\n",
    "from sklearn.cluster import KMeans\n",
    "from sklearn.preprocessing import StandardScaler\n",
    "from ipywidgets import IntProgress\n",
    "from sklearn.model_selection import train_test_split\n",
    "\n",
    "import seaborn as sns\n",
    "import matplotlib.pyplot as plt"
   ]
  },
  {
   "cell_type": "code",
   "execution_count": 27,
   "metadata": {},
   "outputs": [
    {
     "name": "stderr",
     "output_type": "stream",
     "text": [
      "/Users/admin/opt/anaconda3/envs/ml/lib/python3.8/site-packages/numpy/lib/arraysetops.py:580: FutureWarning: elementwise comparison failed; returning scalar instead, but in the future will perform elementwise comparison\n",
      "  mask |= (ar1 == a)\n"
     ]
    }
   ],
   "source": [
    "df=pd.read_csv('/Users/admin/mouse_movement/updated_mouse_data.csv',index_col='Unnamed: 0', \n",
    "               parse_dates=['time']).sort_values(by=['time'])"
   ]
  },
  {
   "cell_type": "code",
   "execution_count": 28,
   "metadata": {},
   "outputs": [
    {
     "data": {
      "text/html": [
       "<div>\n",
       "<style scoped>\n",
       "    .dataframe tbody tr th:only-of-type {\n",
       "        vertical-align: middle;\n",
       "    }\n",
       "\n",
       "    .dataframe tbody tr th {\n",
       "        vertical-align: top;\n",
       "    }\n",
       "\n",
       "    .dataframe thead th {\n",
       "        text-align: right;\n",
       "    }\n",
       "</style>\n",
       "<table border=\"1\" class=\"dataframe\">\n",
       "  <thead>\n",
       "    <tr style=\"text-align: right;\">\n",
       "      <th></th>\n",
       "      <th>type</th>\n",
       "      <th>time</th>\n",
       "      <th>updatedAt</th>\n",
       "      <th>session_id</th>\n",
       "      <th>coordinates_X</th>\n",
       "      <th>coordinates_Y</th>\n",
       "    </tr>\n",
       "  </thead>\n",
       "  <tbody>\n",
       "    <tr>\n",
       "      <th>69584</th>\n",
       "      <td>scroll</td>\n",
       "      <td>2020-08-06 13:17:34.237000+00:00</td>\n",
       "      <td>2020-08-07T13:17:40.951Z</td>\n",
       "      <td>08c9433a-bd4c-4c4b-826a-7ce824aaa9f0</td>\n",
       "      <td>0.000000</td>\n",
       "      <td>0.000000</td>\n",
       "    </tr>\n",
       "    <tr>\n",
       "      <th>69585</th>\n",
       "      <td>touchstart</td>\n",
       "      <td>2020-08-06 13:17:41.052000+00:00</td>\n",
       "      <td>2020-08-07T13:17:40.951Z</td>\n",
       "      <td>08c9433a-bd4c-4c4b-826a-7ce824aaa9f0</td>\n",
       "      <td>431.400848</td>\n",
       "      <td>659.466064</td>\n",
       "    </tr>\n",
       "    <tr>\n",
       "      <th>69586</th>\n",
       "      <td>touchmove</td>\n",
       "      <td>2020-08-06 13:17:41.075000+00:00</td>\n",
       "      <td>2020-08-07T13:17:40.951Z</td>\n",
       "      <td>08c9433a-bd4c-4c4b-826a-7ce824aaa9f0</td>\n",
       "      <td>432.066589</td>\n",
       "      <td>645.476990</td>\n",
       "    </tr>\n",
       "    <tr>\n",
       "      <th>69587</th>\n",
       "      <td>touchmove</td>\n",
       "      <td>2020-08-06 13:17:41.131000+00:00</td>\n",
       "      <td>2020-08-07T13:17:40.951Z</td>\n",
       "      <td>08c9433a-bd4c-4c4b-826a-7ce824aaa9f0</td>\n",
       "      <td>440.055511</td>\n",
       "      <td>604.175964</td>\n",
       "    </tr>\n",
       "    <tr>\n",
       "      <th>69588</th>\n",
       "      <td>touchmove</td>\n",
       "      <td>2020-08-06 13:17:41.167000+00:00</td>\n",
       "      <td>2020-08-07T13:17:40.951Z</td>\n",
       "      <td>08c9433a-bd4c-4c4b-826a-7ce824aaa9f0</td>\n",
       "      <td>446.047211</td>\n",
       "      <td>562.208801</td>\n",
       "    </tr>\n",
       "  </tbody>\n",
       "</table>\n",
       "</div>"
      ],
      "text/plain": [
       "             type                             time                 updatedAt  \\\n",
       "69584      scroll 2020-08-06 13:17:34.237000+00:00  2020-08-07T13:17:40.951Z   \n",
       "69585  touchstart 2020-08-06 13:17:41.052000+00:00  2020-08-07T13:17:40.951Z   \n",
       "69586   touchmove 2020-08-06 13:17:41.075000+00:00  2020-08-07T13:17:40.951Z   \n",
       "69587   touchmove 2020-08-06 13:17:41.131000+00:00  2020-08-07T13:17:40.951Z   \n",
       "69588   touchmove 2020-08-06 13:17:41.167000+00:00  2020-08-07T13:17:40.951Z   \n",
       "\n",
       "                                 session_id  coordinates_X  coordinates_Y  \n",
       "69584  08c9433a-bd4c-4c4b-826a-7ce824aaa9f0       0.000000       0.000000  \n",
       "69585  08c9433a-bd4c-4c4b-826a-7ce824aaa9f0     431.400848     659.466064  \n",
       "69586  08c9433a-bd4c-4c4b-826a-7ce824aaa9f0     432.066589     645.476990  \n",
       "69587  08c9433a-bd4c-4c4b-826a-7ce824aaa9f0     440.055511     604.175964  \n",
       "69588  08c9433a-bd4c-4c4b-826a-7ce824aaa9f0     446.047211     562.208801  "
      ]
     },
     "execution_count": 28,
     "metadata": {},
     "output_type": "execute_result"
    }
   ],
   "source": [
    "df.head()"
   ]
  },
  {
   "cell_type": "code",
   "execution_count": 29,
   "metadata": {},
   "outputs": [],
   "source": [
    "#df['time']=df['time'].astype('datetime64')"
   ]
  },
  {
   "cell_type": "code",
   "execution_count": null,
   "metadata": {},
   "outputs": [],
   "source": []
  },
  {
   "cell_type": "markdown",
   "metadata": {},
   "source": [
    "# def get_derivatives(data):\n",
    "    "
   ]
  },
  {
   "cell_type": "code",
   "execution_count": 35,
   "metadata": {
    "scrolled": true
   },
   "outputs": [],
   "source": [
    "#df = pd.read_csv('part_df', parse_dates=['time']).sort_values(by=['time'])\n",
    "\n",
    "\n",
    "df['dt'] = df.groupby(['session_id'])['time'].diff()\n",
    "df['dx'] = df.groupby(['session_id'])['coordinates_X'].diff()\n",
    "\n",
    "df['dy'] = df.groupby(['session_id'])['coordinates_Y'].diff()\n"
   ]
  },
  {
   "cell_type": "code",
   "execution_count": 47,
   "metadata": {},
   "outputs": [
    {
     "data": {
      "text/plain": [
       "69584        NaN\n",
       "69585      6.815\n",
       "69586      0.023\n",
       "69587      0.056\n",
       "69588      0.036\n",
       "           ...  \n",
       "5189095    0.053\n",
       "5189096    0.016\n",
       "5189097    0.160\n",
       "5189098    0.012\n",
       "5189099    4.644\n",
       "Name: dt, Length: 5189100, dtype: float64"
      ]
     },
     "execution_count": 47,
     "metadata": {},
     "output_type": "execute_result"
    }
   ],
   "source": [
    "#df['dt']=[i.total_seconds() for i in df['dt']]\n",
    "df['dt']"
   ]
  },
  {
   "cell_type": "code",
   "execution_count": 48,
   "metadata": {},
   "outputs": [],
   "source": [
    "df['dx']=df['dx']/df['dt']\n",
    "\n",
    "df['dy']=df['dy']/df['dt']\n"
   ]
  },
  {
   "cell_type": "code",
   "execution_count": 49,
   "metadata": {
    "scrolled": true
   },
   "outputs": [
    {
     "data": {
      "text/html": [
       "<div>\n",
       "<style scoped>\n",
       "    .dataframe tbody tr th:only-of-type {\n",
       "        vertical-align: middle;\n",
       "    }\n",
       "\n",
       "    .dataframe tbody tr th {\n",
       "        vertical-align: top;\n",
       "    }\n",
       "\n",
       "    .dataframe thead th {\n",
       "        text-align: right;\n",
       "    }\n",
       "</style>\n",
       "<table border=\"1\" class=\"dataframe\">\n",
       "  <thead>\n",
       "    <tr style=\"text-align: right;\">\n",
       "      <th></th>\n",
       "      <th>type</th>\n",
       "      <th>time</th>\n",
       "      <th>updatedAt</th>\n",
       "      <th>session_id</th>\n",
       "      <th>coordinates_X</th>\n",
       "      <th>coordinates_Y</th>\n",
       "      <th>dt</th>\n",
       "      <th>dx</th>\n",
       "      <th>dy</th>\n",
       "    </tr>\n",
       "  </thead>\n",
       "  <tbody>\n",
       "    <tr>\n",
       "      <th>69584</th>\n",
       "      <td>scroll</td>\n",
       "      <td>2020-08-06 13:17:34.237000+00:00</td>\n",
       "      <td>2020-08-07T13:17:40.951Z</td>\n",
       "      <td>08c9433a-bd4c-4c4b-826a-7ce824aaa9f0</td>\n",
       "      <td>0.000000</td>\n",
       "      <td>0.000000</td>\n",
       "      <td>NaN</td>\n",
       "      <td>NaN</td>\n",
       "      <td>NaN</td>\n",
       "    </tr>\n",
       "    <tr>\n",
       "      <th>69585</th>\n",
       "      <td>touchstart</td>\n",
       "      <td>2020-08-06 13:17:41.052000+00:00</td>\n",
       "      <td>2020-08-07T13:17:40.951Z</td>\n",
       "      <td>08c9433a-bd4c-4c4b-826a-7ce824aaa9f0</td>\n",
       "      <td>431.400848</td>\n",
       "      <td>659.466064</td>\n",
       "      <td>6.815</td>\n",
       "      <td>63.301665</td>\n",
       "      <td>96.766847</td>\n",
       "    </tr>\n",
       "    <tr>\n",
       "      <th>69586</th>\n",
       "      <td>touchmove</td>\n",
       "      <td>2020-08-06 13:17:41.075000+00:00</td>\n",
       "      <td>2020-08-07T13:17:40.951Z</td>\n",
       "      <td>08c9433a-bd4c-4c4b-826a-7ce824aaa9f0</td>\n",
       "      <td>432.066589</td>\n",
       "      <td>645.476990</td>\n",
       "      <td>0.023</td>\n",
       "      <td>28.945259</td>\n",
       "      <td>-608.220639</td>\n",
       "    </tr>\n",
       "    <tr>\n",
       "      <th>69587</th>\n",
       "      <td>touchmove</td>\n",
       "      <td>2020-08-06 13:17:41.131000+00:00</td>\n",
       "      <td>2020-08-07T13:17:40.951Z</td>\n",
       "      <td>08c9433a-bd4c-4c4b-826a-7ce824aaa9f0</td>\n",
       "      <td>440.055511</td>\n",
       "      <td>604.175964</td>\n",
       "      <td>0.056</td>\n",
       "      <td>142.659324</td>\n",
       "      <td>-737.518311</td>\n",
       "    </tr>\n",
       "    <tr>\n",
       "      <th>69588</th>\n",
       "      <td>touchmove</td>\n",
       "      <td>2020-08-06 13:17:41.167000+00:00</td>\n",
       "      <td>2020-08-07T13:17:40.951Z</td>\n",
       "      <td>08c9433a-bd4c-4c4b-826a-7ce824aaa9f0</td>\n",
       "      <td>446.047211</td>\n",
       "      <td>562.208801</td>\n",
       "      <td>0.036</td>\n",
       "      <td>166.436089</td>\n",
       "      <td>-1165.754530</td>\n",
       "    </tr>\n",
       "  </tbody>\n",
       "</table>\n",
       "</div>"
      ],
      "text/plain": [
       "             type                             time                 updatedAt  \\\n",
       "69584      scroll 2020-08-06 13:17:34.237000+00:00  2020-08-07T13:17:40.951Z   \n",
       "69585  touchstart 2020-08-06 13:17:41.052000+00:00  2020-08-07T13:17:40.951Z   \n",
       "69586   touchmove 2020-08-06 13:17:41.075000+00:00  2020-08-07T13:17:40.951Z   \n",
       "69587   touchmove 2020-08-06 13:17:41.131000+00:00  2020-08-07T13:17:40.951Z   \n",
       "69588   touchmove 2020-08-06 13:17:41.167000+00:00  2020-08-07T13:17:40.951Z   \n",
       "\n",
       "                                 session_id  coordinates_X  coordinates_Y  \\\n",
       "69584  08c9433a-bd4c-4c4b-826a-7ce824aaa9f0       0.000000       0.000000   \n",
       "69585  08c9433a-bd4c-4c4b-826a-7ce824aaa9f0     431.400848     659.466064   \n",
       "69586  08c9433a-bd4c-4c4b-826a-7ce824aaa9f0     432.066589     645.476990   \n",
       "69587  08c9433a-bd4c-4c4b-826a-7ce824aaa9f0     440.055511     604.175964   \n",
       "69588  08c9433a-bd4c-4c4b-826a-7ce824aaa9f0     446.047211     562.208801   \n",
       "\n",
       "          dt          dx           dy  \n",
       "69584    NaN         NaN          NaN  \n",
       "69585  6.815   63.301665    96.766847  \n",
       "69586  0.023   28.945259  -608.220639  \n",
       "69587  0.056  142.659324  -737.518311  \n",
       "69588  0.036  166.436089 -1165.754530  "
      ]
     },
     "execution_count": 49,
     "metadata": {},
     "output_type": "execute_result"
    }
   ],
   "source": [
    "df.head()"
   ]
  },
  {
   "cell_type": "code",
   "execution_count": 51,
   "metadata": {},
   "outputs": [],
   "source": [
    "import math"
   ]
  },
  {
   "cell_type": "code",
   "execution_count": 53,
   "metadata": {},
   "outputs": [],
   "source": [
    "#df['theta']= math.atan2(df['dy'], df['dx'])\n",
    "# df['theta']=[math.atan2(df['dy'][0], df['dx'][0]) for i in range(len(df))]   # math.atan2(df['dy'], df['dx'])\n",
    "# df['theta'] = df['theta2']\n",
    "# del df['theta2']"
   ]
  },
  {
   "cell_type": "code",
   "execution_count": 56,
   "metadata": {},
   "outputs": [],
   "source": [
    "df['theta2'] = np.arctan2(df['dy'], df['dx'])"
   ]
  },
  {
   "cell_type": "code",
   "execution_count": 60,
   "metadata": {},
   "outputs": [
    {
     "data": {
      "text/html": [
       "<div>\n",
       "<style scoped>\n",
       "    .dataframe tbody tr th:only-of-type {\n",
       "        vertical-align: middle;\n",
       "    }\n",
       "\n",
       "    .dataframe tbody tr th {\n",
       "        vertical-align: top;\n",
       "    }\n",
       "\n",
       "    .dataframe thead th {\n",
       "        text-align: right;\n",
       "    }\n",
       "</style>\n",
       "<table border=\"1\" class=\"dataframe\">\n",
       "  <thead>\n",
       "    <tr style=\"text-align: right;\">\n",
       "      <th></th>\n",
       "      <th>time</th>\n",
       "      <th>updatedAt</th>\n",
       "      <th>session_id</th>\n",
       "      <th>coordinates_X</th>\n",
       "      <th>coordinates_Y</th>\n",
       "      <th>dt</th>\n",
       "      <th>dx</th>\n",
       "      <th>dy</th>\n",
       "      <th>theta</th>\n",
       "      <th>type_contextmenu</th>\n",
       "      <th>type_dblclick</th>\n",
       "      <th>type_mousedown</th>\n",
       "      <th>type_mousemove</th>\n",
       "      <th>type_mouseup</th>\n",
       "      <th>type_scroll</th>\n",
       "      <th>type_touchend</th>\n",
       "      <th>type_touchmove</th>\n",
       "      <th>type_touchstart</th>\n",
       "    </tr>\n",
       "  </thead>\n",
       "  <tbody>\n",
       "    <tr>\n",
       "      <th>69584</th>\n",
       "      <td>2020-08-06 13:17:34.237000+00:00</td>\n",
       "      <td>2020-08-07T13:17:40.951Z</td>\n",
       "      <td>08c9433a-bd4c-4c4b-826a-7ce824aaa9f0</td>\n",
       "      <td>0.000000</td>\n",
       "      <td>0.000000</td>\n",
       "      <td>NaN</td>\n",
       "      <td>NaN</td>\n",
       "      <td>NaN</td>\n",
       "      <td>NaN</td>\n",
       "      <td>0</td>\n",
       "      <td>0</td>\n",
       "      <td>0</td>\n",
       "      <td>0</td>\n",
       "      <td>0</td>\n",
       "      <td>1</td>\n",
       "      <td>0</td>\n",
       "      <td>0</td>\n",
       "      <td>0</td>\n",
       "    </tr>\n",
       "    <tr>\n",
       "      <th>69585</th>\n",
       "      <td>2020-08-06 13:17:41.052000+00:00</td>\n",
       "      <td>2020-08-07T13:17:40.951Z</td>\n",
       "      <td>08c9433a-bd4c-4c4b-826a-7ce824aaa9f0</td>\n",
       "      <td>431.400848</td>\n",
       "      <td>659.466064</td>\n",
       "      <td>6.815</td>\n",
       "      <td>63.301665</td>\n",
       "      <td>96.766847</td>\n",
       "      <td>0.991497</td>\n",
       "      <td>0</td>\n",
       "      <td>0</td>\n",
       "      <td>0</td>\n",
       "      <td>0</td>\n",
       "      <td>0</td>\n",
       "      <td>0</td>\n",
       "      <td>0</td>\n",
       "      <td>0</td>\n",
       "      <td>1</td>\n",
       "    </tr>\n",
       "    <tr>\n",
       "      <th>69586</th>\n",
       "      <td>2020-08-06 13:17:41.075000+00:00</td>\n",
       "      <td>2020-08-07T13:17:40.951Z</td>\n",
       "      <td>08c9433a-bd4c-4c4b-826a-7ce824aaa9f0</td>\n",
       "      <td>432.066589</td>\n",
       "      <td>645.476990</td>\n",
       "      <td>0.023</td>\n",
       "      <td>28.945259</td>\n",
       "      <td>-608.220639</td>\n",
       "      <td>-1.523242</td>\n",
       "      <td>0</td>\n",
       "      <td>0</td>\n",
       "      <td>0</td>\n",
       "      <td>0</td>\n",
       "      <td>0</td>\n",
       "      <td>0</td>\n",
       "      <td>0</td>\n",
       "      <td>1</td>\n",
       "      <td>0</td>\n",
       "    </tr>\n",
       "    <tr>\n",
       "      <th>69587</th>\n",
       "      <td>2020-08-06 13:17:41.131000+00:00</td>\n",
       "      <td>2020-08-07T13:17:40.951Z</td>\n",
       "      <td>08c9433a-bd4c-4c4b-826a-7ce824aaa9f0</td>\n",
       "      <td>440.055511</td>\n",
       "      <td>604.175964</td>\n",
       "      <td>0.056</td>\n",
       "      <td>142.659324</td>\n",
       "      <td>-737.518311</td>\n",
       "      <td>-1.379724</td>\n",
       "      <td>0</td>\n",
       "      <td>0</td>\n",
       "      <td>0</td>\n",
       "      <td>0</td>\n",
       "      <td>0</td>\n",
       "      <td>0</td>\n",
       "      <td>0</td>\n",
       "      <td>1</td>\n",
       "      <td>0</td>\n",
       "    </tr>\n",
       "    <tr>\n",
       "      <th>69588</th>\n",
       "      <td>2020-08-06 13:17:41.167000+00:00</td>\n",
       "      <td>2020-08-07T13:17:40.951Z</td>\n",
       "      <td>08c9433a-bd4c-4c4b-826a-7ce824aaa9f0</td>\n",
       "      <td>446.047211</td>\n",
       "      <td>562.208801</td>\n",
       "      <td>0.036</td>\n",
       "      <td>166.436089</td>\n",
       "      <td>-1165.754530</td>\n",
       "      <td>-1.428984</td>\n",
       "      <td>0</td>\n",
       "      <td>0</td>\n",
       "      <td>0</td>\n",
       "      <td>0</td>\n",
       "      <td>0</td>\n",
       "      <td>0</td>\n",
       "      <td>0</td>\n",
       "      <td>1</td>\n",
       "      <td>0</td>\n",
       "    </tr>\n",
       "  </tbody>\n",
       "</table>\n",
       "</div>"
      ],
      "text/plain": [
       "                                  time                 updatedAt  \\\n",
       "69584 2020-08-06 13:17:34.237000+00:00  2020-08-07T13:17:40.951Z   \n",
       "69585 2020-08-06 13:17:41.052000+00:00  2020-08-07T13:17:40.951Z   \n",
       "69586 2020-08-06 13:17:41.075000+00:00  2020-08-07T13:17:40.951Z   \n",
       "69587 2020-08-06 13:17:41.131000+00:00  2020-08-07T13:17:40.951Z   \n",
       "69588 2020-08-06 13:17:41.167000+00:00  2020-08-07T13:17:40.951Z   \n",
       "\n",
       "                                 session_id  coordinates_X  coordinates_Y  \\\n",
       "69584  08c9433a-bd4c-4c4b-826a-7ce824aaa9f0       0.000000       0.000000   \n",
       "69585  08c9433a-bd4c-4c4b-826a-7ce824aaa9f0     431.400848     659.466064   \n",
       "69586  08c9433a-bd4c-4c4b-826a-7ce824aaa9f0     432.066589     645.476990   \n",
       "69587  08c9433a-bd4c-4c4b-826a-7ce824aaa9f0     440.055511     604.175964   \n",
       "69588  08c9433a-bd4c-4c4b-826a-7ce824aaa9f0     446.047211     562.208801   \n",
       "\n",
       "          dt          dx           dy     theta  type_contextmenu  \\\n",
       "69584    NaN         NaN          NaN       NaN                 0   \n",
       "69585  6.815   63.301665    96.766847  0.991497                 0   \n",
       "69586  0.023   28.945259  -608.220639 -1.523242                 0   \n",
       "69587  0.056  142.659324  -737.518311 -1.379724                 0   \n",
       "69588  0.036  166.436089 -1165.754530 -1.428984                 0   \n",
       "\n",
       "       type_dblclick  type_mousedown  type_mousemove  type_mouseup  \\\n",
       "69584              0               0               0             0   \n",
       "69585              0               0               0             0   \n",
       "69586              0               0               0             0   \n",
       "69587              0               0               0             0   \n",
       "69588              0               0               0             0   \n",
       "\n",
       "       type_scroll  type_touchend  type_touchmove  type_touchstart  \n",
       "69584            1              0               0                0  \n",
       "69585            0              0               0                1  \n",
       "69586            0              0               1                0  \n",
       "69587            0              0               1                0  \n",
       "69588            0              0               1                0  "
      ]
     },
     "execution_count": 60,
     "metadata": {},
     "output_type": "execute_result"
    }
   ],
   "source": [
    "df = pd.get_dummies(df, columns=['type'])\n",
    "df.head()"
   ]
  },
  {
   "cell_type": "code",
   "execution_count": 61,
   "metadata": {},
   "outputs": [
    {
     "data": {
      "text/plain": [
       "time                    0\n",
       "updatedAt               0\n",
       "session_id              0\n",
       "coordinates_X           3\n",
       "coordinates_Y           3\n",
       "dt                  20660\n",
       "dx                  25469\n",
       "dy                  25450\n",
       "theta               25556\n",
       "type_contextmenu        0\n",
       "type_dblclick           0\n",
       "type_mousedown          0\n",
       "type_mousemove          0\n",
       "type_mouseup            0\n",
       "type_scroll             0\n",
       "type_touchend           0\n",
       "type_touchmove          0\n",
       "type_touchstart         0\n",
       "dtype: int64"
      ]
     },
     "execution_count": 61,
     "metadata": {},
     "output_type": "execute_result"
    }
   ],
   "source": [
    "df.isna().sum()"
   ]
  },
  {
   "cell_type": "code",
   "execution_count": 143,
   "metadata": {
    "scrolled": true
   },
   "outputs": [],
   "source": [
    "df_encoding=df.copy()\n",
    "df_encoding=df_encoding.fillna(0)\n",
    "\n",
    "scaler = StandardScaler()\n",
    "\n",
    "df_encoding[['coordinates_X','coordinates_Y','theta','type_contextmenu','type_dblclick','type_mousedown','type_mousemove','type_mouseup','type_scroll',\n",
    "                            'type_touchend','type_touchmove','type_touchstart']] = scaler.fit_transform(\n",
    "    df_encoding[['coordinates_X','coordinates_Y','theta','type_contextmenu','type_dblclick',\n",
    "                    'type_mousedown','type_mousemove','type_mouseup','type_scroll',\n",
    "                            'type_touchend','type_touchmove','type_touchstart']])"
   ]
  },
  {
   "cell_type": "code",
   "execution_count": 144,
   "metadata": {},
   "outputs": [],
   "source": [
    "train = df_encoding[df_encoding['session_id'].isin(df_encoding['session_id'].unique()[:16000])]\n",
    "\n",
    "test = df_encoding[df_encoding['session_id'].isin(df_encoding['session_id'].unique()[16000:])]\n"
   ]
  },
  {
   "cell_type": "code",
   "execution_count": null,
   "metadata": {},
   "outputs": [],
   "source": []
  },
  {
   "cell_type": "code",
   "execution_count": null,
   "metadata": {},
   "outputs": [],
   "source": []
  },
  {
   "cell_type": "code",
   "execution_count": 145,
   "metadata": {},
   "outputs": [],
   "source": [
    "data = {}\n",
    "data2=[]\n",
    "for u, g in train.groupby('session_id'):\n",
    "    data[u] = np.array(g[['coordinates_X','coordinates_Y','theta',\n",
    "                            'type_contextmenu','type_dblclick','type_mousedown',\n",
    "                            'type_mousemove','type_mouseup','type_scroll',\n",
    "                            'type_touchend','type_touchmove','type_touchstart']])\n",
    "\n",
    "    data2.append(np.array(g[['coordinates_X','coordinates_Y','theta',\n",
    "                            'type_contextmenu','type_dblclick','type_mousedown',\n",
    "                            'type_mousemove','type_mouseup','type_scroll',\n",
    "                            'type_touchend','type_touchmove','type_touchstart']]))"
   ]
  },
  {
   "cell_type": "code",
   "execution_count": 146,
   "metadata": {},
   "outputs": [
    {
     "name": "stderr",
     "output_type": "stream",
     "text": [
      "/Users/admin/opt/anaconda3/envs/ml/lib/python3.8/site-packages/pandas/core/internals/construction.py:305: VisibleDeprecationWarning: Creating an ndarray from ragged nested sequences (which is a list-or-tuple of lists-or-tuples-or ndarrays with different lengths or shapes) is deprecated. If you meant to do this, you must specify 'dtype=object' when creating the ndarray\n",
      "  values = np.array([convert(v) for v in values])\n"
     ]
    }
   ],
   "source": [
    "check=pd.DataFrame.from_dict(data,orient='index')\n"
   ]
  },
  {
   "cell_type": "code",
   "execution_count": 147,
   "metadata": {},
   "outputs": [
    {
     "data": {
      "text/plain": [
       "(1,)"
      ]
     },
     "execution_count": 147,
     "metadata": {},
     "output_type": "execute_result"
    }
   ],
   "source": [
    "check.iloc[0].shape"
   ]
  },
  {
   "cell_type": "code",
   "execution_count": 148,
   "metadata": {},
   "outputs": [
    {
     "name": "stderr",
     "output_type": "stream",
     "text": [
      "<ipython-input-148-c85959082900>:1: VisibleDeprecationWarning: Creating an ndarray from ragged nested sequences (which is a list-or-tuple of lists-or-tuples-or ndarrays with different lengths or shapes) is deprecated. If you meant to do this, you must specify 'dtype=object' when creating the ndarray\n",
      "  data2=np.array(data2)\n"
     ]
    }
   ],
   "source": [
    "data2=np.array(data2)"
   ]
  },
  {
   "cell_type": "code",
   "execution_count": 149,
   "metadata": {},
   "outputs": [
    {
     "data": {
      "text/plain": [
       "(16000,)"
      ]
     },
     "execution_count": 149,
     "metadata": {},
     "output_type": "execute_result"
    }
   ],
   "source": [
    "data2.shape"
   ]
  },
  {
   "cell_type": "markdown",
   "metadata": {},
   "source": [
    "#### BaseLine:"
   ]
  },
  {
   "cell_type": "code",
   "execution_count": 150,
   "metadata": {},
   "outputs": [],
   "source": [
    "def plot_distortions(k_range, data):\n",
    "    distortions = []\n",
    "    K = k_range\n",
    "    for k in tqdm(K):\n",
    "        kmeanModel = KMeans(n_clusters=k)\n",
    "        kmeanModel.fit(data)\n",
    "        distortions.append(kmeanModel.inertia_)\n",
    "\n",
    "    plt.figure(figsize=(12,6))\n",
    "    plt.plot(K, distortions, 'bx-')\n",
    "    plt.xlabel('k')\n",
    "    plt.ylabel('Distortion')\n",
    "    plt.title('Elbow Method')\n",
    "    plt.show()"
   ]
  },
  {
   "cell_type": "code",
   "execution_count": 151,
   "metadata": {},
   "outputs": [],
   "source": [
    "df_kmeans=train[['coordinates_X','coordinates_Y','theta',\n",
    "                            'type_contextmenu','type_dblclick','type_mousedown',\n",
    "                            'type_mousemove','type_mouseup','type_scroll',\n",
    "                            'type_touchend','type_touchmove','type_touchstart']].copy()"
   ]
  },
  {
   "cell_type": "code",
   "execution_count": 152,
   "metadata": {},
   "outputs": [
    {
     "data": {
      "application/vnd.jupyter.widget-view+json": {
       "model_id": "2d376c66d1b64159b36842dfe27bf1e3",
       "version_major": 2,
       "version_minor": 0
      },
      "text/plain": [
       "HBox(children=(HTML(value=''), FloatProgress(value=0.0, max=14.0), HTML(value='')))"
      ]
     },
     "metadata": {},
     "output_type": "display_data"
    },
    {
     "name": "stdout",
     "output_type": "stream",
     "text": [
      "\n"
     ]
    },
    {
     "data": {
      "image/png": "[encoded data removed]",
      "text/plain": [
       "<Figure size 864x432 with 1 Axes>"
      ]
     },
     "metadata": {
      "needs_background": "light"
     },
     "output_type": "display_data"
    }
   ],
   "source": [
    "plot_distortions(range(1,15), df_kmeans)"
   ]
  },
  {
   "cell_type": "markdown",
   "metadata": {},
   "source": [
    "### K means смог поделить на 8-10 классов"
   ]
  },
  {
   "cell_type": "code",
   "execution_count": 153,
   "metadata": {},
   "outputs": [],
   "source": [
    "kmeanModel = KMeans(n_clusters=8)\n",
    "kmeanModel.fit(df_kmeans)\n",
    "clusters = kmeanModel.predict(df_kmeans)"
   ]
  },
  {
   "cell_type": "markdown",
   "metadata": {},
   "source": [
    "## Visualizing clusters"
   ]
  },
  {
   "cell_type": "code",
   "execution_count": 154,
   "metadata": {},
   "outputs": [
    {
     "data": {
      "image/png": "[encoded data removed]",
      "text/plain": [
       "<Figure size 432x288 with 1 Axes>"
      ]
     },
     "metadata": {
      "needs_background": "light"
     },
     "output_type": "display_data"
    }
   ],
   "source": [
    "from sklearn.decomposition import PCA\n",
    "\n",
    "pca = PCA()\n",
    "pca.fit(df_kmeans)\n",
    "\n",
    "explained_variance = np.cumsum(pca.explained_variance_ratio_)\n",
    "plt.plot(explained_variance)\n",
    "components_threshold = np.argwhere(explained_variance > 0.95).reshape(-1)[0]\n",
    "plt.vlines(components_threshold, explained_variance.min(), 0.95, linestyle='dashed')\n",
    "plt.show()"
   ]
  },
  {
   "cell_type": "code",
   "execution_count": 156,
   "metadata": {},
   "outputs": [],
   "source": [
    "pca = PCA(n_components=components_threshold)\n",
    "pca_transformed = pca.fit_transform(df_kmeans)"
   ]
  },
  {
   "cell_type": "code",
   "execution_count": 158,
   "metadata": {},
   "outputs": [
    {
     "data": {
      "text/plain": [
       "0.36810920515015844"
      ]
     },
     "execution_count": 158,
     "metadata": {},
     "output_type": "execute_result"
    }
   ],
   "source": [
    "np.sum(pca.explained_variance_ratio_[:2])"
   ]
  },
  {
   "cell_type": "code",
   "execution_count": null,
   "metadata": {},
   "outputs": [],
   "source": []
  },
  {
   "cell_type": "code",
   "execution_count": 163,
   "metadata": {
    "scrolled": true
   },
   "outputs": [
    {
     "data": {
      "image/png": "[encoded data removed]",
      "text/plain": [
       "<Figure size 360x360 with 1 Axes>"
      ]
     },
     "metadata": {
      "needs_background": "light"
     },
     "output_type": "display_data"
    }
   ],
   "source": [
    "plt.figure(figsize=(5, 5))\n",
    "plt.scatter(pca_transformed[:, 0], pca_transformed[:, 1], c=clusters)\n",
    "plt.title(\"PCA: first two pcs\")\n",
    "plt.show()"
   ]
  },
  {
   "cell_type": "markdown",
   "metadata": {},
   "source": [
    "Визуализировать нормально не получилось"
   ]
  },
  {
   "cell_type": "markdown",
   "metadata": {},
   "source": [
    "### Multicore TSNE"
   ]
  },
  {
   "cell_type": "code",
   "execution_count": null,
   "metadata": {},
   "outputs": [],
   "source": [
    "## Слишком долго обучать\n",
    "from MulticoreTSNE import MulticoreTSNE as TSNE\n",
    "\n",
    "tsne = TSNE(n_jobs=6)\n",
    "tsne_transformed = tsne.fit_transform(pca_transformed)"
   ]
  },
  {
   "cell_type": "code",
   "execution_count": 169,
   "metadata": {
    "collapsed": true
   },
   "outputs": [
    {
     "ename": "KeyboardInterrupt",
     "evalue": "",
     "output_type": "error",
     "traceback": [
      "\u001b[0;31m---------------------------------------------------------------------------\u001b[0m",
      "\u001b[0;31mKeyboardInterrupt\u001b[0m                         Traceback (most recent call last)",
      "\u001b[0;32m<ipython-input-169-bcde72880d89>\u001b[0m in \u001b[0;36m<module>\u001b[0;34m\u001b[0m\n\u001b[1;32m      6\u001b[0m     \u001b[0mverbose\u001b[0m\u001b[0;34m=\u001b[0m\u001b[0;36m1\u001b[0m\u001b[0;34m\u001b[0m\u001b[0;34m\u001b[0m\u001b[0m\n\u001b[1;32m      7\u001b[0m )\n\u001b[0;32m----> 8\u001b[0;31m \u001b[0mts_kmeans\u001b[0m\u001b[0;34m.\u001b[0m\u001b[0mfit\u001b[0m\u001b[0;34m(\u001b[0m\u001b[0mdf_kmeans\u001b[0m\u001b[0;34m)\u001b[0m\u001b[0;34m\u001b[0m\u001b[0;34m\u001b[0m\u001b[0m\n\u001b[0m",
      "\u001b[0;32m~/opt/anaconda3/envs/ml/lib/python3.8/site-packages/tslearn/clustering.py\u001b[0m in \u001b[0;36mfit\u001b[0;34m(self, X, y)\u001b[0m\n\u001b[1;32m    978\u001b[0m                     \u001b[0mprint\u001b[0m\u001b[0;34m(\u001b[0m\u001b[0;34m\"Init %d\"\u001b[0m \u001b[0;34m%\u001b[0m \u001b[0;34m(\u001b[0m\u001b[0mn_successful\u001b[0m \u001b[0;34m+\u001b[0m \u001b[0;36m1\u001b[0m\u001b[0;34m)\u001b[0m\u001b[0;34m)\u001b[0m\u001b[0;34m\u001b[0m\u001b[0;34m\u001b[0m\u001b[0m\n\u001b[1;32m    979\u001b[0m                 \u001b[0mn_attempts\u001b[0m \u001b[0;34m+=\u001b[0m \u001b[0;36m1\u001b[0m\u001b[0;34m\u001b[0m\u001b[0;34m\u001b[0m\u001b[0m\n\u001b[0;32m--> 980\u001b[0;31m                 \u001b[0mself\u001b[0m\u001b[0;34m.\u001b[0m\u001b[0m_fit_one_init\u001b[0m\u001b[0;34m(\u001b[0m\u001b[0mX_\u001b[0m\u001b[0;34m,\u001b[0m \u001b[0mx_squared_norms\u001b[0m\u001b[0;34m,\u001b[0m \u001b[0mrs\u001b[0m\u001b[0;34m)\u001b[0m\u001b[0;34m\u001b[0m\u001b[0;34m\u001b[0m\u001b[0m\n\u001b[0m\u001b[1;32m    981\u001b[0m                 \u001b[0;32mif\u001b[0m \u001b[0mself\u001b[0m\u001b[0;34m.\u001b[0m\u001b[0minertia_\u001b[0m \u001b[0;34m<\u001b[0m \u001b[0mmin_inertia\u001b[0m\u001b[0;34m:\u001b[0m\u001b[0;34m\u001b[0m\u001b[0;34m\u001b[0m\u001b[0m\n\u001b[1;32m    982\u001b[0m                     \u001b[0mbest_correct_centroids\u001b[0m \u001b[0;34m=\u001b[0m \u001b[0mself\u001b[0m\u001b[0;34m.\u001b[0m\u001b[0mcluster_centers_\u001b[0m\u001b[0;34m.\u001b[0m\u001b[0mcopy\u001b[0m\u001b[0;34m(\u001b[0m\u001b[0;34m)\u001b[0m\u001b[0;34m\u001b[0m\u001b[0;34m\u001b[0m\u001b[0m\n",
      "\u001b[0;32m~/opt/anaconda3/envs/ml/lib/python3.8/site-packages/tslearn/clustering.py\u001b[0m in \u001b[0;36m_fit_one_init\u001b[0;34m(self, X, x_squared_norms, rs)\u001b[0m\n\u001b[1;32m    847\u001b[0m                         \u001b[0;34m\"'softdtw', 'euclidean')\"\u001b[0m \u001b[0;34m%\u001b[0m \u001b[0mself\u001b[0m\u001b[0;34m.\u001b[0m\u001b[0mmetric\u001b[0m\u001b[0;34m\u001b[0m\u001b[0;34m\u001b[0m\u001b[0m\n\u001b[1;32m    848\u001b[0m                     )\n\u001b[0;32m--> 849\u001b[0;31m                 self.cluster_centers_ = _k_init_metric(X, self.n_clusters,\n\u001b[0m\u001b[1;32m    850\u001b[0m                                                        \u001b[0mcdist_metric\u001b[0m\u001b[0;34m=\u001b[0m\u001b[0mmetric_fun\u001b[0m\u001b[0;34m,\u001b[0m\u001b[0;34m\u001b[0m\u001b[0;34m\u001b[0m\u001b[0m\n\u001b[1;32m    851\u001b[0m                                                        random_state=rs)\n",
      "\u001b[0;32m~/opt/anaconda3/envs/ml/lib/python3.8/site-packages/tslearn/clustering.py\u001b[0m in \u001b[0;36m_k_init_metric\u001b[0;34m(X, n_clusters, cdist_metric, random_state, n_local_trials)\u001b[0m\n\u001b[1;32m    109\u001b[0m \u001b[0;34m\u001b[0m\u001b[0m\n\u001b[1;32m    110\u001b[0m         \u001b[0;31m# Compute distances to center candidates\u001b[0m\u001b[0;34m\u001b[0m\u001b[0;34m\u001b[0m\u001b[0;34m\u001b[0m\u001b[0m\n\u001b[0;32m--> 111\u001b[0;31m         \u001b[0mdistance_to_candidates\u001b[0m \u001b[0;34m=\u001b[0m \u001b[0mcdist_metric\u001b[0m\u001b[0;34m(\u001b[0m\u001b[0mX\u001b[0m\u001b[0;34m[\u001b[0m\u001b[0mcandidate_ids\u001b[0m\u001b[0;34m]\u001b[0m\u001b[0;34m,\u001b[0m \u001b[0mX\u001b[0m\u001b[0;34m)\u001b[0m \u001b[0;34m**\u001b[0m \u001b[0;36m2\u001b[0m\u001b[0;34m\u001b[0m\u001b[0;34m\u001b[0m\u001b[0m\n\u001b[0m\u001b[1;32m    112\u001b[0m \u001b[0;34m\u001b[0m\u001b[0m\n\u001b[1;32m    113\u001b[0m         \u001b[0;31m# update closest distances squared and potential for each candidate\u001b[0m\u001b[0;34m\u001b[0m\u001b[0;34m\u001b[0m\u001b[0;34m\u001b[0m\u001b[0m\n",
      "\u001b[0;32m~/opt/anaconda3/envs/ml/lib/python3.8/site-packages/tslearn/clustering.py\u001b[0m in \u001b[0;36mmetric_fun\u001b[0;34m(x, y)\u001b[0m\n\u001b[1;32m    841\u001b[0m                 \u001b[0;32melif\u001b[0m \u001b[0mself\u001b[0m\u001b[0;34m.\u001b[0m\u001b[0mmetric\u001b[0m \u001b[0;34m==\u001b[0m \u001b[0;34m\"softdtw\"\u001b[0m\u001b[0;34m:\u001b[0m\u001b[0;34m\u001b[0m\u001b[0;34m\u001b[0m\u001b[0m\n\u001b[1;32m    842\u001b[0m                     \u001b[0;32mdef\u001b[0m \u001b[0mmetric_fun\u001b[0m\u001b[0;34m(\u001b[0m\u001b[0mx\u001b[0m\u001b[0;34m,\u001b[0m \u001b[0my\u001b[0m\u001b[0;34m)\u001b[0m\u001b[0;34m:\u001b[0m\u001b[0;34m\u001b[0m\u001b[0;34m\u001b[0m\u001b[0m\n\u001b[0;32m--> 843\u001b[0;31m                         \u001b[0;32mreturn\u001b[0m \u001b[0mcdist_soft_dtw\u001b[0m\u001b[0;34m(\u001b[0m\u001b[0mx\u001b[0m\u001b[0;34m,\u001b[0m \u001b[0my\u001b[0m\u001b[0;34m,\u001b[0m \u001b[0;34m**\u001b[0m\u001b[0mmetric_params\u001b[0m\u001b[0;34m)\u001b[0m\u001b[0;34m\u001b[0m\u001b[0;34m\u001b[0m\u001b[0m\n\u001b[0m\u001b[1;32m    844\u001b[0m                 \u001b[0;32melse\u001b[0m\u001b[0;34m:\u001b[0m\u001b[0;34m\u001b[0m\u001b[0;34m\u001b[0m\u001b[0m\n\u001b[1;32m    845\u001b[0m                     raise ValueError(\n",
      "\u001b[0;32m~/opt/anaconda3/envs/ml/lib/python3.8/site-packages/tslearn/metrics.py\u001b[0m in \u001b[0;36mcdist_soft_dtw\u001b[0;34m(dataset1, dataset2, gamma)\u001b[0m\n\u001b[1;32m   1954\u001b[0m                 \u001b[0mdists\u001b[0m\u001b[0;34m[\u001b[0m\u001b[0mi\u001b[0m\u001b[0;34m,\u001b[0m \u001b[0mj\u001b[0m\u001b[0;34m]\u001b[0m \u001b[0;34m=\u001b[0m \u001b[0mdists\u001b[0m\u001b[0;34m[\u001b[0m\u001b[0mj\u001b[0m\u001b[0;34m,\u001b[0m \u001b[0mi\u001b[0m\u001b[0;34m]\u001b[0m\u001b[0;34m\u001b[0m\u001b[0;34m\u001b[0m\u001b[0m\n\u001b[1;32m   1955\u001b[0m             \u001b[0;32melse\u001b[0m\u001b[0;34m:\u001b[0m\u001b[0;34m\u001b[0m\u001b[0;34m\u001b[0m\u001b[0m\n\u001b[0;32m-> 1956\u001b[0;31m                 \u001b[0mdists\u001b[0m\u001b[0;34m[\u001b[0m\u001b[0mi\u001b[0m\u001b[0;34m,\u001b[0m \u001b[0mj\u001b[0m\u001b[0;34m]\u001b[0m \u001b[0;34m=\u001b[0m \u001b[0msoft_dtw\u001b[0m\u001b[0;34m(\u001b[0m\u001b[0mts1_short\u001b[0m\u001b[0;34m,\u001b[0m \u001b[0mts2_short\u001b[0m\u001b[0;34m,\u001b[0m \u001b[0mgamma\u001b[0m\u001b[0;34m=\u001b[0m\u001b[0mgamma\u001b[0m\u001b[0;34m)\u001b[0m\u001b[0;34m\u001b[0m\u001b[0;34m\u001b[0m\u001b[0m\n\u001b[0m\u001b[1;32m   1957\u001b[0m \u001b[0;34m\u001b[0m\u001b[0m\n\u001b[1;32m   1958\u001b[0m     \u001b[0;32mreturn\u001b[0m \u001b[0mdists\u001b[0m\u001b[0;34m\u001b[0m\u001b[0;34m\u001b[0m\u001b[0m\n",
      "\u001b[0;32m~/opt/anaconda3/envs/ml/lib/python3.8/site-packages/tslearn/metrics.py\u001b[0m in \u001b[0;36msoft_dtw\u001b[0;34m(ts1, ts2, gamma)\u001b[0m\n\u001b[1;32m   1871\u001b[0m     \u001b[0;32mif\u001b[0m \u001b[0mgamma\u001b[0m \u001b[0;34m==\u001b[0m \u001b[0;36m0.\u001b[0m\u001b[0;34m:\u001b[0m\u001b[0;34m\u001b[0m\u001b[0;34m\u001b[0m\u001b[0m\n\u001b[1;32m   1872\u001b[0m         \u001b[0;32mreturn\u001b[0m \u001b[0mdtw\u001b[0m\u001b[0;34m(\u001b[0m\u001b[0mts1\u001b[0m\u001b[0;34m,\u001b[0m \u001b[0mts2\u001b[0m\u001b[0;34m)\u001b[0m \u001b[0;34m**\u001b[0m \u001b[0;36m2\u001b[0m\u001b[0;34m\u001b[0m\u001b[0;34m\u001b[0m\u001b[0m\n\u001b[0;32m-> 1873\u001b[0;31m     return SoftDTW(SquaredEuclidean(ts1[:ts_size(ts1)], ts2[:ts_size(ts2)]),\n\u001b[0m\u001b[1;32m   1874\u001b[0m                    gamma=gamma).compute()\n\u001b[1;32m   1875\u001b[0m \u001b[0;34m\u001b[0m\u001b[0m\n",
      "\u001b[0;31mKeyboardInterrupt\u001b[0m: "
     ]
    }
   ],
   "source": [
    "ts_kmeans = TimeSeriesKMeans(\n",
    "    n_clusters=8, \n",
    "    metric=\"softdtw\", \n",
    "    n_jobs=6, \n",
    "    max_iter=1, \n",
    "    verbose=1\n",
    ")\n",
    "ts_kmeans.fit(df_kmeans)"
   ]
  },
  {
   "cell_type": "code",
   "execution_count": null,
   "metadata": {},
   "outputs": [],
   "source": []
  },
  {
   "cell_type": "code",
   "execution_count": null,
   "metadata": {},
   "outputs": [],
   "source": []
  },
  {
   "cell_type": "code",
   "execution_count": null,
   "metadata": {},
   "outputs": [],
   "source": []
  },
  {
   "cell_type": "code",
   "execution_count": null,
   "metadata": {},
   "outputs": [],
   "source": []
  },
  {
   "cell_type": "code",
   "execution_count": null,
   "metadata": {},
   "outputs": [],
   "source": []
  },
  {
   "cell_type": "code",
   "execution_count": null,
   "metadata": {},
   "outputs": [],
   "source": []
  },
  {
   "cell_type": "code",
   "execution_count": null,
   "metadata": {},
   "outputs": [],
   "source": []
  },
  {
   "cell_type": "code",
   "execution_count": null,
   "metadata": {},
   "outputs": [],
   "source": []
  },
  {
   "cell_type": "code",
   "execution_count": null,
   "metadata": {},
   "outputs": [],
   "source": []
  },
  {
   "cell_type": "code",
   "execution_count": null,
   "metadata": {},
   "outputs": [],
   "source": []
  },
  {
   "cell_type": "code",
   "execution_count": null,
   "metadata": {},
   "outputs": [],
   "source": []
  },
  {
   "cell_type": "code",
   "execution_count": null,
   "metadata": {},
   "outputs": [],
   "source": []
  },
  {
   "cell_type": "code",
   "execution_count": null,
   "metadata": {},
   "outputs": [],
   "source": []
  },
  {
   "cell_type": "code",
   "execution_count": null,
   "metadata": {},
   "outputs": [],
   "source": []
  },
  {
   "cell_type": "code",
   "execution_count": null,
   "metadata": {},
   "outputs": [],
   "source": []
  },
  {
   "cell_type": "code",
   "execution_count": null,
   "metadata": {},
   "outputs": [],
   "source": [
    " "
   ]
  }
 ],
 "metadata": {
  "kernelspec": {
   "display_name": "Python 3",
   "language": "python",
   "name": "python3"
  }
 },
 "nbformat": 4,
 "nbformat_minor": 4
}
